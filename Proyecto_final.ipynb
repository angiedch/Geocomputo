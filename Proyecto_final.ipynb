{
 "cells": [
  {
   "cell_type": "markdown",
   "metadata": {},
   "source": [
    "# <center> <font color= 'pink'> **Mapa de intensidades de un sismo**"
   ]
  },
  {
   "cell_type": "markdown",
   "metadata": {},
   "source": [
    "<font color= 'pink'>Presentado por Angie Chiquillo"
   ]
  },
  {
   "cell_type": "markdown",
   "metadata": {},
   "source": [
    "# Problema Geocientífico\n",
    "\n",
    "\n",
    "**Área geocientífica:** Sismología \n",
    "\n",
    "**Descripción General:** Para realizar un proyecto de gestión de riesgos en el municipio de Tasco, Boyacá, se requiere conocer la estabilidad del terreno lo cual se estudiará a través de los datos de la aceleración del mismo. Para esto se realizará un **Mapa de intensidades de la aceleración máxima de un sismo** ocurrido recientemente (este año, 2024) en Colombia, con los datos de una estación sísmica ubicada en el Departamento de Boyacá.\n",
    "\n",
    "**Mapa de Zona de estudio:** Tomado de __[Gobernación de Boyacá (2015)](https://www.google.com.co/url?sa=i&url=https%3A%2F%2Fplaneacion.boyaca.gov.co%2Fwp-content%2Fuploads%2F2015%2F06%2FTASCO-VEREDAL.pdf&psig=AOvVaw0EQ4TF3C64Wm_8-zxNPhJa&ust=1724013466779000&source=images&cd=vfe&opi=89978449&ved=0CAMQjB1qFwoTCPjBjeTw_IcDFQAAAAAdAAAAABAg)__\n",
    "\n",
    "<center>\n",
    "<img src=\"Tasco.png\" style=\"width: 600px\"; />\n",
    "</center>\n",
    "\n",
    "\n",
    "## Sismo seleccionado:\n",
    "Se selecciona al inicio de la ejecución del Proyecto para descarga óptima de datos\n",
    "\n",
    "## Estación sismológica de la toma de datos: \n",
    "- Duitama, Boyacá\n",
    "- Nombre: La Rusia\n",
    "- Código: RUS\n",
    "- Coordenadas: 5.892 N, -73.083 E\n",
    "- Elevación: 3697 msnm\n",
    "\n",
    "## Metodología: (Planeación)\n",
    "\n",
    "1. Se descargarán los datos del sismo a través de la plataforma __[SAGE: Wilber 3](https://ds.iris.edu/wilber3/find_event)__ para la estación sísmica seleccionada que se puede visualizar en __[Información Sísmica SGC](https://saeprod.sgc.gov.co/sismos)__.\n",
    "\n",
    "2. Se leerán los archivos y se procesarán los datos.\n",
    "\n",
    "3. Se removerá la respuesta instrumental de los parámetros de velocidad de los vectores que describen el movimiento de las ondas del sismo por medio de las cuales se obtendrá la aceleración del terreno teniendo en cuenta que:\n",
    "\n",
    "$$ a = \\dfrac{dv}{dt} $$"
   ]
  },
  {
   "cell_type": "markdown",
   "metadata": {},
   "source": [
    "<font color= 'red'> **Nota:** Para un análisis del sismo más profundo se realiza un procedimiento que incluye la rotación de los vectores a través de la Transformada de Fourier que se describe de la siguiente manera: \n",
    "$$F(\\omega) = \\int_{-\\infty}^{\\infty} f(t) e^{-i \\omega t} dt $$\n",
    "Sin embargo, para el objetivo específico del proyecto (elaboración del mapa de intensidades) no se realizará este proceso con el sismograma ya que no es necesario para conocer \n",
    "las aceleraciones."
   ]
  },
  {
   "cell_type": "markdown",
   "metadata": {},
   "source": [
    "4. Se realizará el mapa utilizando paquetes de Python especializados en datos geoespaciales, tales como **Cartopy** y **pyGMT**. Un ejemplo de un **Mapa de intensidades de la aceleración máxima del sismo** que se espera obtener, se muestra a continuación:\n",
    "\n",
    "Mapa tomado de __[ResearchGate](https://www.researchgate.net/figure/Figura-4-mapa-de-intenSidad-de-la-aceleracion-maxima-del-terreno-en-pga_fig4_323502143)__\n",
    "\n",
    "<center>\n",
    "<img src=\"Mapa_intensidad.png\" style=\"width: 400px\"; />\n",
    "</center>"
   ]
  }
 ],
 "metadata": {
  "kernelspec": {
   "display_name": "Python 3",
   "language": "python",
   "name": "python3"
  },
  "language_info": {
   "codemirror_mode": {
    "name": "ipython",
    "version": 3
   },
   "file_extension": ".py",
   "mimetype": "text/x-python",
   "name": "python",
   "nbconvert_exporter": "python",
   "pygments_lexer": "ipython3",
   "version": "3.11.9"
  }
 },
 "nbformat": 4,
 "nbformat_minor": 2
}
