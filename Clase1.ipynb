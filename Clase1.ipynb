{
 "cells": [
  {
   "cell_type": "code",
   "execution_count": 1,
   "metadata": {},
   "outputs": [
    {
     "data": {
      "text/plain": [
       "'\\nGeocomputo Clase 1\\n\\nconda create -n ambiente\\nconda info --env (conocer los ambientes)\\nonda create -n ambiente python=3.8 paquete=0.1.0\\nconda activate ambiente\\nconda env remove -n ambiente\\n\\n'"
      ]
     },
     "execution_count": 1,
     "metadata": {},
     "output_type": "execute_result"
    }
   ],
   "source": [
    "\"\"\"\n",
    "Geocomputo Clase 1\n",
    "\n",
    "conda create -n ambiente\n",
    "conda info --env (conocer los ambientes)\n",
    "onda create -n ambiente python=3.8 paquete=0.1.0\n",
    "conda activate ambiente\n",
    "conda env remove -n ambiente\n",
    "\n",
    "\"\"\""
   ]
  }
 ],
 "metadata": {
  "language_info": {
   "name": "python"
  }
 },
 "nbformat": 4,
 "nbformat_minor": 2
}
