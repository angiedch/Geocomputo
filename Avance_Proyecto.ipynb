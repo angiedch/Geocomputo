{
 "cells": [
  {
   "cell_type": "markdown",
   "metadata": {},
   "source": [
    "# <center> <b> Proyecto Final"
   ]
  },
  {
   "cell_type": "markdown",
   "metadata": {},
   "source": [
    "- Investigar en qué consiste un análisis exploratorio de datos (EDA).\n",
    "- Si no lo ha hecho, definir el set de datos que va a utilizar.\n",
    "- Presentar un Notebook junto con la motivación del proyecto, introducción del problema, referencias, etc.\n",
    "- Aplicar un EDA preliminar a sus datos y presentarlo en un Notebook. "
   ]
  },
  {
   "cell_type": "markdown",
   "metadata": {},
   "source": [
    "## **Introducción**"
   ]
  },
  {
   "cell_type": "markdown",
   "metadata": {},
   "source": [
    "<font color = 'white'>Teniendo como <font color = 'red'> **objetivo general aplicar herramientas computacionales a las geociencias, se realiza un proyecto con enfoque en sismología, que afianza los conocimientos teórico-prácticos de la programación a un área específica de esta ciencia.**<font color = 'white'> De esta forma, como paso inicial para la realización de un proyecto de gestión de riesgos en el municipio de Tasco, Boyacá, se requiere conocer la estabilidad del terreno. Para esto se utilizarán datos sismológicos de la aceleración del subsuelo de la zona, los cuales se procesarán para producir un **Mapa de intensidades de la aceleración máxima** o *shapemap*. Para la producción de este mapa se necesitan los sismogramas de un sismo de magnitud significativa que ocurrió recientemente cerca a la zona de estudio. En adición, los sismogramas se recopilarán de dos estaciones sísmicas en el Departamento de Boyacá.\n",
    "\n",
    "**Mapa de Zona de estudio:** Tomado de __[Gobernación de Boyacá (2015)](https://www.google.com.co/url?sa=i&url=https%3A%2F%2Fplaneacion.boyaca.gov.co%2Fwp-content%2Fuploads%2F2015%2F06%2FTASCO-VEREDAL.pdf&psig=AOvVaw0EQ4TF3C64Wm_8-zxNPhJa&ust=1724013466779000&source=images&cd=vfe&opi=89978449&ved=0CAMQjB1qFwoTCPjBjeTw_IcDFQAAAAAdAAAAABAg)__\n",
    "\n",
    "<center>\n",
    "<img src=\"Tasco.png\" style=\"width: 600px\"; />\n",
    "</center>"
   ]
  },
  {
   "cell_type": "markdown",
   "metadata": {},
   "source": [
    "## **Objetivos Específicos**\n",
    "\n",
    "- Descarga datos en tipos de archivos diversos *(.txt, .csv, etc)*, a través de bibliotecas web de **geociencias** y utilizando librerías como **numpy** y **pandas** para su importación.\n",
    "- Manipulación para procesamiento de información **geocientífica** con distintos tipos de datos en **Python**, como arrays y DataFrames.\n",
    "- Visualización de datos **geocientíficos** (análisis exploratorio de datos) para facilitar su posterior análisis y estudio en el área investigativa.\n"
   ]
  },
  {
   "cell_type": "markdown",
   "metadata": {},
   "source": [
    "## **Metodología**\n",
    "\n",
    "### <font color='fucshia '> **Set de datos:** \n",
    "\n",
    "Evento sísmico ocurrido el 17 de Agosto del 2023 en el municipio de El Calvario, Departamento del Meta, Colombia a las 12:04 p.m. Magnitud del sismo de 6,1 a una profundidad de menos de 20 km con 179 réplicas hasta el 18 de Agosto del 2023 (Servicio Geológico Colombiano, 2023).\n",
    "\n",
    "#### **Estación sísmica 1**\n",
    "- Duitama, Boyacá\n",
    "- Nombre: La Rusia\n",
    "- Código: RUS\n",
    "- Coordenadas: 5.892 N, -73.083 E\n",
    "- Elevación: 3697 msnm  \n",
    "\n",
    "#### **Estación sísmica 2**\n",
    "- San Pablo de Borbur, Boyacá\n",
    "- Nombre: San Pablo de Borbur Boyacá\n",
    "- Código: SPBC\n",
    "- Coordenadas: 5.652 N, -74.072 E\n",
    "- Elevación: 783 msnm  \n",
    "\n",
    "\n",
    "<font color='white'>\n",
    "\n",
    "#### **Procedimiento**\n",
    "1. Se descargarán los datos del sismo a través de la plataforma __[SAGE: Wilber 3](https://ds.iris.edu/wilber3/find_event)__ obteniendo los archivos tipo **SAC**, y a través del __[Catálogo Sísmico del SGC](https://saeprod.sgc.gov.co/catalogo)__ para la visualización de la información de profundidad, latitud, longitud, magnitud, entre otros, para comprensión previa de los mismos.\n",
    "\n",
    "2. Dichos datos se obtienen ara las estaciones sísmicas seleccionadas  se puede visualizar en __[Información Sísmica SGC](https://saeprod.sgc.gov.co/sismos)__.\n",
    "\n",
    "3. Se importrán los archivos, se leerán y se procesarán los datos.\n",
    "\n",
    "4. Se removerá la respuesta instrumental de los parámetros de velocidad de los vectores que describen el movimiento de las ondas del sismo por medio de las cuales se obtendrá la aceleración del terreno teniendo en cuenta que:\n",
    "\n",
    "$$ a = \\dfrac{dv}{dt} $$"
   ]
  },
  {
   "cell_type": "markdown",
   "metadata": {},
   "source": [
    "## <font color='cornflowerblue'>Referencias\n",
    "- __[S. G. Colombiano. Reporte de réplicas del sismo ocurrido en el calvario- meta el 17 de agosto de 2023. SGC, 2023](https://www2.sgc.gov.co/Noticias/tpaginas/Reporte-El-Calvario-Meta-18-08-2023-corte-6pm.pdf)__\n",
    "\n",
    "- __[S. G. Colombiano. Visor de sismos. SGC, 2024](https://saeprod.sgc.gov.co/sismos)__"
   ]
  },
  {
   "cell_type": "markdown",
   "metadata": {},
   "source": []
  }
 ],
 "metadata": {
  "language_info": {
   "name": "python"
  }
 },
 "nbformat": 4,
 "nbformat_minor": 2
}
